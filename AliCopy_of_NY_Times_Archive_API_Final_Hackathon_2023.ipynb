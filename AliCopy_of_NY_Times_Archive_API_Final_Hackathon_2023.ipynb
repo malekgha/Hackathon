{
  "cells": [
    {
      "attachments": {},
      "cell_type": "markdown",
      "metadata": {
        "id": "XKHwsYpwXW30"
      },
      "source": [
        "# <font color=red> Software Developer Foundations - Final Hackathon\n",
        "\n",
        "## The NY Times Archive API Challenge</font>"
      ]
    },
    {
      "attachments": {},
      "cell_type": "markdown",
      "metadata": {
        "id": "QXgDZV8BQesb"
      },
      "source": [
        "\n",
        "# What Happened on the Day that you were Born?\n",
        "\n",
        "Python contructs we'll use in this Hackathon:\n",
        "- Public API data ingest.\n",
        "- Retrieve JSON data from the API for a _month_ and _year_.\n",
        "- Filter the data for a specific _day of the month_.\n",
        "- Use `pandas` to manipulate the data.\n",
        "- Create a CSV file of the resulting dataset within `pandas`."
      ]
    },
    {
      "attachments": {},
      "cell_type": "markdown",
      "metadata": {
        "id": "3kjqzHPePen1"
      },
      "source": [
        "\n",
        "## Description of the Coding Exercise\n",
        "- We will query the **New York Times Archive API** for all the articles the Times has accessible from the API from your _BIRTH MONTH_ and _BIRTH YEAR_.\n",
        " - If you did not do this earlier in the course, you can signup for an API Key at the [NY Times API Main Site](https://developer.nytimes.com/). \n",
        " - Start by reviewing the webpage here: [NY Times Archive API](https://developer.nytimes.com/docs/archive-product/1/overview).\n",
        " - Study the `Example Call` of the `Archive` API endpoint.\n",
        " - Be sure you **TEST** your code following every step.\n",
        " - Ask questions.\n",
        "- **OPTIONAL INPUT**: Ask the user for their birth month and year to query the NY Times Archive API.\n",
        "\n",
        "## Helpful Steps\n",
        "- After you understand how to invoke the endpoint, use the _Firefox_ browser to help you understand the structure of the API data by making a sample API call in the browser location bar.\n",
        "- Instead of asking the user to input data, you **should** first _hardcode_ a birth month and birth year such as:\n",
        "```python\n",
        "year = \"1991\"\n",
        "month = \"12\"\n",
        "```\n",
        "\n",
        "**NOTE**:  Because we are dealing with URLs, you want all the data to be `string` datatypes.\n",
        "\n"
      ]
    },
    {
      "attachments": {},
      "cell_type": "markdown",
      "metadata": {
        "id": "og9EPv0PpxHN"
      },
      "source": [
        "# STEP 1. Make the Appropriate API Call and get the JSON Data\n",
        "\n",
        "- You will obtain JSON data from the Archive API\n",
        " - Construct a URL to pass to the API.  If you're not sure of the format, then go back to the [NY Times Archive API](https://developer.nytimes.com/docs/archive-product/1/overview) and study the examples, as suggested earlier.\n",
        " - Display the URL that you constructed.\n",
        " - This code can help you to construct the API call:\n",
        "\n",
        " ```\n",
        " # Construct the URL\n",
        "month_url = month + \".json\"\n",
        "url_parts = (base_url,year,month_url)\n",
        "url = \"/\".join(url_parts)\n",
        "print(url)\n",
        "```\n",
        "- Use `requests.get()` to make your API call.\n",
        "- Use the `json()` method to convert the returned JSON data to Python data structures.\n",
        "- **TEST**:  Put the URL that is displayed into your Firefox browser and study the data returned.\n",
        "\n"
      ]
    },
    {
      "cell_type": "code",
      "execution_count": null,
      "metadata": {
        "colab": {
          "base_uri": "https://localhost:8080/"
        },
        "id": "9T9CBh9rl_a1",
        "outputId": "17b53cc1-2aed-4e42-b961-466309ea559f",
        "vscode": {
          "languageId": "python"
        }
      },
      "outputs": [
        {
          "name": "stdout",
          "output_type": "stream",
          "text": [
            "https://api.nytimes.com/svc/archive/v1/1977/3.json?api-key=4nmeaJpgR7RFexfB3yyp03S8s0ySU52z\n"
          ]
        }
      ],
      "source": [
        "import requests\n",
        "import csv\n",
        "\n",
        "# What is the \"base URL\" for the API?\n",
        "base_url = \"https://api.nytimes.com/svc/archive/v1\"\n",
        "myapikey = \"4nmeaJpgR7RFexfB3yyp03S8s0ySU52z\"\n",
        "\n",
        "year = \"1977\"\n",
        "month = \"3\"\n",
        "#year = input(\"Enter your 4-digit birth year: \")\n",
        "#month = input(\"Enter a digit indicating the month of the year that you were born (1-12): \")\n",
        "\n",
        "# Construct the URL\n",
        "month_url = month + \".json\"\n",
        "url_parts = (base_url,year,month_url)\n",
        "url = \"/\".join(url_parts)\n",
        "\n",
        "# Setup the querystring\n",
        "querystring = {\"api-key\": myapikey}\n",
        "\n",
        "# Call request and convert the JSON data to a Python dict\n",
        "response = requests.get(url, params=querystring)\n",
        "response_dict = response.json()\n",
        "print(response.url)"
      ]
    },
    {
      "attachments": {},
      "cell_type": "markdown",
      "metadata": {
        "id": "fiiSW50MHBQ9"
      },
      "source": [
        "# STEP 2. Obtain the Data that Contains the Archived Articles\n",
        "\n",
        "- There are two top-level JSON keys.\n",
        "  - `copyright`\n",
        "  - `response`\n",
        "- Display the value of the `copyright` key.\n",
        "- Capture the `response` value in a Python dictionary called `response_dict`. \n",
        "- What are the two **keys** in `response_dict`?\n",
        "- Use `response_dict['meta']['hits']` to display a statement like the following after you retrieve the data in \n",
        " - `There are 7078 articles in month 12 of 1991.`\n",
        "\n"
      ]
    },
    {
      "cell_type": "code",
      "execution_count": null,
      "metadata": {
        "colab": {
          "base_uri": "https://localhost:8080/"
        },
        "id": "Sw7zdMVKHHxU",
        "outputId": "ee2c8fe6-c2f3-4c1f-ead5-e1997a5cf851",
        "vscode": {
          "languageId": "python"
        }
      },
      "outputs": [
        {
          "name": "stderr",
          "output_type": "stream",
          "text": [
            "IOPub data rate exceeded.\n",
            "The notebook server will temporarily stop sending output\n",
            "to the client in order to avoid crashing it.\n",
            "To change this limit, set the config variable\n",
            "`--NotebookApp.iopub_data_rate_limit`.\n",
            "\n",
            "Current values:\n",
            "NotebookApp.iopub_data_rate_limit=1000000.0 (bytes/sec)\n",
            "NotebookApp.rate_limit_window=3.0 (secs)\n",
            "\n"
          ]
        }
      ],
      "source": [
        "myURL = \"https://api.nytimes.com/svc/archive/v1/1977/3.json?api-key=4nmeaJpgR7RFexfB3yyp03S8s0ySU52z\"\n",
        "# Get the response data\n",
        "response = requests.get(myURL)\n",
        "#create a python dictionary\n",
        "response_dict = response.json()\n",
        "# Print out the \"hits\" key to show the number of articles that were returned\n",
        "# by the NY Times Archive API\n",
        "print(response_dict)\n",
        "\n",
        "\n",
        "print(f\"There are {response_dict['response']['meta']} etcetera.\")\n",
        "\n",
        "\n",
        "\n",
        "# for k in response_dict.items():\n",
        "#   print(f'{k}')\n"
      ]
    },
    {
      "attachments": {},
      "cell_type": "markdown",
      "metadata": {
        "id": "KnlB2JwtJSsR"
      },
      "source": [
        "# Step 3. Store the data from the `docs` key\n",
        "\n",
        "Be sure you understand that the API endpoint returned **all of the articles published in the MONTH of the given YEAR.** \n",
        "\n",
        "Again, study the `JSON` data that is returned from the API call.  It is suggested that you use Firefox to review the response JSON data.\n",
        "\n",
        "- What **JSON `key`** contains all articles archived for that month and year?  Retrieve the articles from `response_dict` and assign that list to **a variable called `articles`**.\n",
        "  - Use an `f-string` to display the number of articles in the `articles` list using the `len` function.\n",
        "  - Select a single entry in the `articles` list by selecting any index. Note that each list element is a Python dictionary.\n",
        "  - Display the `key/value` pairs by using:\n",
        "```python\n",
        "for key, value in articles[0].items():\n",
        "  #your print statement\n",
        "```   \n",
        "\n",
        "The output should look something like this:\n",
        "```\n",
        "There are 7078 in this API call.\n",
        "abstract :   BETTING people in the real estate community here think the odds are excellent that riverboat gambling, approved by the State Legislature in July, will spur development along the Mississippi River waterfront downtown.   The law stipulated that construction of the boats could not begin until January 1992, and the first boats are not expected to begin operating until late in 1993. Nevertheless, real estate brokers and developers already have begun to prepare for what they think will be a daily influx of thousands of visitors.\n",
        "web_url : https://www.nytimes.com/1991/12/01/realestate/focus-new-orleans-builders-betting-on-riverboat-gambling.html\n",
        "snippet : \n",
        "lead_paragraph : BETTING people in the real estate community here think the odds are excellent that riverboat gambling, approved by the State Legislature in July, will spur development along the Mississippi River waterfront downtown.\n",
        "print_section : 10\n",
        "print_page : 5\n",
        "source : The New York Times\n",
        "multimedia : []\n",
        "headline : {'main': 'Focus: New Orleans; Builders Betting on Riverboat Gambling', 'kicker': None, 'content_kicker': None, 'print_headline': 'Focus: New Orleans; Builders Betting on Riverboat Gambling', 'name': None, 'seo': None, 'sub': None}\n",
        "keywords : [{'name': 'glocations', 'value': 'New Orleans (La)', 'rank': 1, 'major': 'N'}, {'name': 'glocations', 'value': 'Mississippi River', 'rank': 2, 'major': 'N'}, {'name': 'glocations', 'value': 'Louisiana', 'rank': 3, 'major': 'N'}, {'name': 'subject', 'value': 'Gambling', 'rank': 4, 'major': 'N'}, {'name': 'subject', 'value': 'Area Planning and Renewal', 'rank': 5, 'major': 'N'}, {'name': 'subject', 'value': 'Law and Legislation', 'rank': 6, 'major': 'N'}, {'name': 'subject', 'value': 'Boats and Boating', 'rank': 7, 'major': 'N'}]\n",
        "pub_date : 1991-12-01T05:00:00+0000\n",
        "document_type : article\n",
        "news_desk : Real Estate Desk\n",
        "section_name : Real Estate\n",
        "byline : {'original': 'By Lettice Stuart', 'person': [{'firstname': 'Lettice', 'middlename': None, 'lastname': 'Stuart', 'qualifier': None, 'title': None, 'role': 'reported', 'organization': '', 'rank': 1}], 'organization': None}\n",
        "type_of_material : News\n",
        "_id : nyt://article/004d96e7-7a02-5dfc-bb41-b085bb7836ef\n",
        "word_count : 1322\n",
        "uri : nyt://article/004d96e7-7a02-5dfc-bb41-b085bb7836ef\n",
        "```"
      ]
    },
    {
      "cell_type": "code",
      "execution_count": null,
      "metadata": {
        "colab": {
          "base_uri": "https://localhost:8080/"
        },
        "id": "KoHfEMPqJCQW",
        "outputId": "331f33f3-bba7-486d-b79d-1006e4f8a519",
        "vscode": {
          "languageId": "python"
        }
      },
      "outputs": [
        {
          "name": "stdout",
          "output_type": "stream",
          "text": [
            "There are 10 in this API call.\n",
            "10\n"
          ]
        }
      ],
      "source": [
        "myURL = \"https://api.nytimes.com/svc/archive/v1/1977/3.json?api-key=4nmeaJpgR7RFexfB3yyp03S8s0ySU52z\"\n",
        "# Get the response data\n",
        "response = requests.get(myURL)\n",
        "#create a python dictionary\n",
        "response_dict = response.json()\n",
        "\n",
        "# Grab all the articles from the response_dict.\n",
        "articles = response_dict[\"response\"]\n",
        "articles_f = articles[\"docs\"]\n",
        "\n",
        "print(f'There are {len(\"articles_f\")} in this API call.')\n",
        "# What key do you need to index?\n",
        "# for key, value in articles_f[0].items():\n",
        "#   print(f'{k} : {v}')\n",
        "print(len(\"articles_f\"))"
      ]
    },
    {
      "attachments": {},
      "cell_type": "markdown",
      "metadata": {
        "id": "jXlNI7AuKvUe"
      },
      "source": [
        "# Step 4. Filter the Data ONLY for your **Date of Birth**.\n",
        "\n",
        "### **What do we have?**\n",
        "- All of the articles published in the MONTH of the given YEAR.\n",
        "- These articles are currently stored in a list called `articles`.\n",
        "\n",
        "### **What we want:**\n",
        "- We only want to consider the articles that were returned by the API for a single **day** in the _month/year_ of our birth.\n",
        "- Our next goal is to filter the data by a specific day of the month.\n",
        "\n",
        "### Let's filter the data\n",
        "- Create a string variable called `dob`. Assign your birth date in this format: `\"yyyy-mm-dd\"`.\n",
        "- Create an empty `Python list` variable called `dobArticles`. \n",
        "\n",
        "- You will populate this list with all the **specific articles** returned by the API that are on YOUR **BIRTHDATE** from all the `articles` list.\n",
        "- Walk through the `articles` list and query the `pub_date` key in the JSON. Use a `for` loop to traverse the `articles` list, one dictionary at a time.  The following steps all occur within the scope of the `for` loop:\n",
        " - Notice that the data is in the form: `\"1991-12-05T05:00:00+0000\"`\n",
        " - We only need the string data PRIOR to the `T`, so we can use a `str.split('T')` call on the **value** of the `pub_date` key.\n",
        " - When you `split` on `'T'`, the result can be stored in a tuple with 2 elements called `dayofmonth` and `garbage` because you don't need the data **after the `'T'`**.\n",
        " - Compare your `dob` to `dayofmonth`.\n",
        "  - If there's a match, then `append` that dictionary to the `dobArticles` list.\n",
        "- This cell should display something like this:\n",
        " - `There were 598 articles in the NY Times Archive published on your date of birth.`"
      ]
    },
    {
      "cell_type": "code",
      "execution_count": null,
      "metadata": {
        "colab": {
          "base_uri": "https://localhost:8080/"
        },
        "id": "Fh1zLZM2KyQN",
        "outputId": "42ee46ad-ab80-4a28-8791-037422e43948",
        "vscode": {
          "languageId": "python"
        }
      },
      "outputs": [
        {
          "name": "stdout",
          "output_type": "stream",
          "text": [
            "docs\n",
            "meta\n",
            "fault : {'faultstring': 'Failed to resolve API Key variable request.queryparam.api-key', 'detail': {'errorcode': 'steps.oauth.v2.FailedToResolveAPIKey'}}\n",
            "There were 0 articles published on your date of birth.\n"
          ]
        }
      ],
      "source": [
        "# Put your birthdate in this format\n",
        "# yyyy-mm-dd\n",
        "# Assign that STRING to a variable called dob\n",
        "dob = \"1977-03-31\"\n",
        "\n",
        "dobArticles = {}\n",
        "\n",
        "\n",
        "for article in articles:\n",
        "  print(article)\n",
        "\n",
        "#   imageUrls = pythonData[\"message\"]\n",
        "\n",
        "# for image in imageUrls:\n",
        "#   print(image)\n",
        "\n",
        "\n",
        "for k, v in pythonData.items():\n",
        "  print(f'{k} : {v}')\n",
        "\n",
        "print(f'There were {len(dobArticles)} articles published on your date of birth.')\n"
      ]
    },
    {
      "attachments": {},
      "cell_type": "markdown",
      "metadata": {
        "id": "82wxC4rJvDwJ"
      },
      "source": [
        "# Step 5. Display a single article from your birth date.\n",
        "\n",
        "You should have all the articles from your date of birth stored in the `dobArticles` list.  \n",
        "\n",
        "- What is the data type of a single element in this list?\n",
        "- Use a `for` loop to display all the **keys** from a **single element of the `dobArticles` list**.\n",
        "\n",
        "**TEST**.  Check the `pub_date` key.  Does it have the **date of your birth**?"
      ]
    },
    {
      "cell_type": "code",
      "execution_count": null,
      "metadata": {
        "id": "fLJ3q690vXfy",
        "vscode": {
          "languageId": "python"
        }
      },
      "outputs": [],
      "source": []
    },
    {
      "attachments": {},
      "cell_type": "markdown",
      "metadata": {
        "id": "h2XE0FejWgyt"
      },
      "source": [
        "# Step 6. Let's move to `pandas` so that we can more easily manipulate the data.\n",
        "\n",
        "We will read `dobArticles` into a `DataFrame` and use that data structure to complete the exercise.\n",
        "\n",
        "- `import pandas as pd`\n",
        "- Create a DataFrame called `dobarticles_df` and read the `dobArticles` list into it.\n",
        " - `dobarticles_df = pd.DataFrame(dobArticles)`\n",
        "- Use `head()` to display the first 5 lines of this DataFrame\n",
        "- Display any 3 consecutive articles from the `dobarticles_df` DataFrame using `iloc` and a `Python slice`.\n",
        "```python\n",
        "# Here's a slice example\n",
        "df.iloc[a:b]\n",
        "``` \n",
        "\n",
        "**TEST**.  Again, check the `pub_date` key.  Do all articles reflect the **date of your birth**?"
      ]
    },
    {
      "cell_type": "code",
      "execution_count": null,
      "metadata": {
        "colab": {
          "base_uri": "https://localhost:8080/",
          "height": 106
        },
        "id": "TkyUKhHcYtMB",
        "outputId": "ebceef1c-7d5d-4085-f825-46b4ad9338fe",
        "vscode": {
          "languageId": "python"
        }
      },
      "outputs": [
        {
          "data": {
            "text/html": [
              "\n",
              "  <div id=\"df-c4707dbc-b2a3-4ae7-9fa6-486112be08e9\">\n",
              "    <div class=\"colab-df-container\">\n",
              "      <div>\n",
              "<style scoped>\n",
              "    .dataframe tbody tr th:only-of-type {\n",
              "        vertical-align: middle;\n",
              "    }\n",
              "\n",
              "    .dataframe tbody tr th {\n",
              "        vertical-align: top;\n",
              "    }\n",
              "\n",
              "    .dataframe thead th {\n",
              "        text-align: right;\n",
              "    }\n",
              "</style>\n",
              "<table border=\"1\" class=\"dataframe\">\n",
              "  <thead>\n",
              "    <tr style=\"text-align: right;\">\n",
              "      <th></th>\n",
              "    </tr>\n",
              "  </thead>\n",
              "  <tbody>\n",
              "  </tbody>\n",
              "</table>\n",
              "</div>\n",
              "      <button class=\"colab-df-convert\" onclick=\"convertToInteractive('df-c4707dbc-b2a3-4ae7-9fa6-486112be08e9')\"\n",
              "              title=\"Convert this dataframe to an interactive table.\"\n",
              "              style=\"display:none;\">\n",
              "        \n",
              "  <svg xmlns=\"http://www.w3.org/2000/svg\" height=\"24px\"viewBox=\"0 0 24 24\"\n",
              "       width=\"24px\">\n",
              "    <path d=\"M0 0h24v24H0V0z\" fill=\"none\"/>\n",
              "    <path d=\"M18.56 5.44l.94 2.06.94-2.06 2.06-.94-2.06-.94-.94-2.06-.94 2.06-2.06.94zm-11 1L8.5 8.5l.94-2.06 2.06-.94-2.06-.94L8.5 2.5l-.94 2.06-2.06.94zm10 10l.94 2.06.94-2.06 2.06-.94-2.06-.94-.94-2.06-.94 2.06-2.06.94z\"/><path d=\"M17.41 7.96l-1.37-1.37c-.4-.4-.92-.59-1.43-.59-.52 0-1.04.2-1.43.59L10.3 9.45l-7.72 7.72c-.78.78-.78 2.05 0 2.83L4 21.41c.39.39.9.59 1.41.59.51 0 1.02-.2 1.41-.59l7.78-7.78 2.81-2.81c.8-.78.8-2.07 0-2.86zM5.41 20L4 18.59l7.72-7.72 1.47 1.35L5.41 20z\"/>\n",
              "  </svg>\n",
              "      </button>\n",
              "      \n",
              "  <style>\n",
              "    .colab-df-container {\n",
              "      display:flex;\n",
              "      flex-wrap:wrap;\n",
              "      gap: 12px;\n",
              "    }\n",
              "\n",
              "    .colab-df-convert {\n",
              "      background-color: #E8F0FE;\n",
              "      border: none;\n",
              "      border-radius: 50%;\n",
              "      cursor: pointer;\n",
              "      display: none;\n",
              "      fill: #1967D2;\n",
              "      height: 32px;\n",
              "      padding: 0 0 0 0;\n",
              "      width: 32px;\n",
              "    }\n",
              "\n",
              "    .colab-df-convert:hover {\n",
              "      background-color: #E2EBFA;\n",
              "      box-shadow: 0px 1px 2px rgba(60, 64, 67, 0.3), 0px 1px 3px 1px rgba(60, 64, 67, 0.15);\n",
              "      fill: #174EA6;\n",
              "    }\n",
              "\n",
              "    [theme=dark] .colab-df-convert {\n",
              "      background-color: #3B4455;\n",
              "      fill: #D2E3FC;\n",
              "    }\n",
              "\n",
              "    [theme=dark] .colab-df-convert:hover {\n",
              "      background-color: #434B5C;\n",
              "      box-shadow: 0px 1px 3px 1px rgba(0, 0, 0, 0.15);\n",
              "      filter: drop-shadow(0px 1px 2px rgba(0, 0, 0, 0.3));\n",
              "      fill: #FFFFFF;\n",
              "    }\n",
              "  </style>\n",
              "\n",
              "      <script>\n",
              "        const buttonEl =\n",
              "          document.querySelector('#df-c4707dbc-b2a3-4ae7-9fa6-486112be08e9 button.colab-df-convert');\n",
              "        buttonEl.style.display =\n",
              "          google.colab.kernel.accessAllowed ? 'block' : 'none';\n",
              "\n",
              "        async function convertToInteractive(key) {\n",
              "          const element = document.querySelector('#df-c4707dbc-b2a3-4ae7-9fa6-486112be08e9');\n",
              "          const dataTable =\n",
              "            await google.colab.kernel.invokeFunction('convertToInteractive',\n",
              "                                                     [key], {});\n",
              "          if (!dataTable) return;\n",
              "\n",
              "          const docLinkHtml = 'Like what you see? Visit the ' +\n",
              "            '<a target=\"_blank\" href=https://colab.research.google.com/notebooks/data_table.ipynb>data table notebook</a>'\n",
              "            + ' to learn more about interactive tables.';\n",
              "          element.innerHTML = '';\n",
              "          dataTable['output_type'] = 'display_data';\n",
              "          await google.colab.output.renderOutput(dataTable, element);\n",
              "          const docLink = document.createElement('div');\n",
              "          docLink.innerHTML = docLinkHtml;\n",
              "          element.appendChild(docLink);\n",
              "        }\n",
              "      </script>\n",
              "    </div>\n",
              "  </div>\n",
              "  "
            ],
            "text/plain": [
              "Empty DataFrame\n",
              "Columns: []\n",
              "Index: []"
            ]
          },
          "execution_count": 74,
          "metadata": {},
          "output_type": "execute_result"
        }
      ],
      "source": [
        "import pandas as pd\n",
        "\n",
        "dobarticles_df = pd.DataFrame(dobArticles)\n",
        "dobarticles_df.head(5)\n",
        "dobarticles_df.iloc[110:115]"
      ]
    },
    {
      "attachments": {},
      "cell_type": "markdown",
      "metadata": {
        "id": "4uFy8BL6R6Zb"
      },
      "source": [
        "# Step 7. Let's find what page each article appeared on. \n",
        "\n",
        "### How many articles are there on the front page?\n",
        "- What **column** contains the data for the **specific page** that the article appeared on? \n",
        "- Display all the values from this single column of the `dobarticles_df` DataFrame."
      ]
    },
    {
      "cell_type": "code",
      "execution_count": null,
      "metadata": {
        "id": "hn0GSPAhJzw3",
        "vscode": {
          "languageId": "python"
        }
      },
      "outputs": [],
      "source": []
    },
    {
      "attachments": {},
      "cell_type": "markdown",
      "metadata": {
        "id": "mcsC9XA6Zbqr"
      },
      "source": [
        "# Step 8. Let's find the articles that were on the **Front Page** of the NY Times (on your Birthdate).\n",
        "\n",
        "### How many articles are there on the front page?\n",
        "- Create another DataFrame called `frontpage_df` that chooses ONLY rows from the front page.\n",
        " - **HINT**:  How did we choose the _rank one_ rows from the `fortune500` `DataFrame` in class?\n",
        "- Use `shape` to determine the number of articles that appeared on the front page of the NY Times on your birthday."
      ]
    },
    {
      "cell_type": "code",
      "execution_count": null,
      "metadata": {
        "id": "3fZfqfhkZ12e",
        "vscode": {
          "languageId": "python"
        }
      },
      "outputs": [],
      "source": []
    },
    {
      "attachments": {},
      "cell_type": "markdown",
      "metadata": {
        "id": "rgT4SE1RV6hb"
      },
      "source": [
        "## Display the resulting `frontpage_df` DataFrame\n",
        "\n",
        "- Use `iloc` to display 5 articles from the `frontpage_df` DataFrame. Again, use a slice to do this.\n",
        "- Then, display the entire `frontpage_df` DataFrame"
      ]
    },
    {
      "cell_type": "code",
      "execution_count": null,
      "metadata": {
        "id": "byvrl2N-V384",
        "vscode": {
          "languageId": "python"
        }
      },
      "outputs": [],
      "source": []
    },
    {
      "attachments": {},
      "cell_type": "markdown",
      "metadata": {
        "id": "fmCUwDFifTQW"
      },
      "source": [
        "# Step 9. Extract the **Headlines** Column from the Front Page articles.\n",
        "\n",
        "What Do We Have Currently?\n",
        "- A `DataFrame` called `frontpage_df` that contains only articles that appeared on the **Front Page** of the NY Times on the **date of your birth**\n",
        "\n",
        "- Using the `frontpage_df DataFrame`:\n",
        " - Look at the `headline` column.\n",
        " - Assign only the `headline` column to a variable called `headlines`.  The datatype of `headlines` is a `pandas Series`. \n",
        "    - Reminder:  A **`Series`** is very much like a list but it's NOT formally a `list` datatype.\n",
        " - Look at the first element of `headlines` using `iloc[0]`.\n",
        " - Print out `print(headlines)`.\n",
        "\n"
      ]
    },
    {
      "cell_type": "code",
      "execution_count": null,
      "metadata": {
        "id": "gFyqLx28ejmR",
        "vscode": {
          "languageId": "python"
        }
      },
      "outputs": [],
      "source": [
        "# Make a list of the printed headlines from the articles on the front page.\n",
        "\n"
      ]
    },
    {
      "attachments": {},
      "cell_type": "markdown",
      "metadata": {
        "id": "FHsc9zlOcBSf"
      },
      "source": [
        "# Step 10. Force the **`headlines`** Series to be a Python List \n",
        "\n",
        "Convert the `headlines Series` to a `list`. \n",
        "  - There's a function called `to_list()` that we will use to convert `headlines` Series to a Python `list`.  \n",
        "```python\n",
        "headlinesList = headlines.to_list()\n",
        "```\n",
        "\n",
        "- Use Colab to verify that you `headlinesList` is, indeed, a Python list. Do this by hovering over the `headlinesList` variable.\n",
        "- Display the first element of `headlinesList`.\n",
        "  - Note that this element is a Python `dictionary`.\n"
      ]
    },
    {
      "cell_type": "code",
      "execution_count": null,
      "metadata": {
        "id": "OH5RBgr4b2mX",
        "vscode": {
          "languageId": "python"
        }
      },
      "outputs": [],
      "source": [
        "# Force the headlines Series to be a Python list\n"
      ]
    },
    {
      "attachments": {},
      "cell_type": "markdown",
      "metadata": {
        "id": "eO1P500meBIT"
      },
      "source": [
        "# Step 11. Create a List of only the Headlines from the **Date of your Birth**\n",
        "\n",
        "Let's populate a Python list of the Print Headlines.\n",
        " - Create a `Python list` variable called `printHeadlines`.\n",
        " ```python\n",
        " printHeadlines = []\n",
        " ```\n",
        "\n",
        " - For each element in `headlinesList`, `append` the value of the `print_headline` key to `printHeadlines`.\n",
        " - Display the resulting `printHeadlines` list using a `for` loop.\n"
      ]
    },
    {
      "cell_type": "code",
      "execution_count": null,
      "metadata": {
        "id": "gLMMRilnduM1",
        "vscode": {
          "languageId": "python"
        }
      },
      "outputs": [],
      "source": [
        "# Make a list of the printed headlines from the articles on the front page.\n"
      ]
    },
    {
      "attachments": {},
      "cell_type": "markdown",
      "metadata": {
        "id": "ci5aycWtcejR"
      },
      "source": [
        "# Step 12. Create a CSV File of all the Front Page articles from the **Date of your Birth**.\n",
        "\n",
        "What do we have?\n",
        "- We want to save all the articles from the **date of our birth** that is currently stored in the `DataFrame` called `frontpage_df`.\n",
        "\n",
        "- This time you will use the `pandas` `to_csv()` function to create a CSV file from the `frontpage_df` DataFrame.\n",
        " - Create a `string` variable called `frontpage_birthdate` that uses the `dob` variable from above to create a meaningful CSV file name using string concatenation like: `\"nytimes_archives-frontpage\" + dob + \".csv\"`\n",
        " - Create the CSV file using: \n",
        " ```frontpage_df.to_csv(myfilename)```\n",
        "- View the CSV file either locally in Colab or download to Microsoft Excel.\n"
      ]
    },
    {
      "cell_type": "code",
      "execution_count": null,
      "metadata": {
        "id": "gWeFcAbkZq5P",
        "vscode": {
          "languageId": "python"
        }
      },
      "outputs": [],
      "source": []
    },
    {
      "attachments": {},
      "cell_type": "markdown",
      "metadata": {
        "id": "V04IMbstebP8"
      },
      "source": [
        "# Step 13. The Fun Part! \n",
        "\n",
        "The **fruits of your labor** ...\n",
        "\n",
        "View one of the Articles from the Date of your Birth at the NY Times.\n",
        "\n",
        "\n",
        "- Use any of the following to copy/paste a value from the  `web_url` column into a Web browser.\n",
        "  - `dobarticles_df`\n",
        "  - `frontpage_df`\n",
        "  - The CSV file that you created.\n",
        "\n",
        "For NY Times Subscribers, you can typically view the entire **printed version of the Archived article** through: `VIEW ON TIMESMACHINE`. \n",
        "\n",
        "Check it out! It's pretty fun to look at!\n",
        "\n",
        "You may use the following login credentials for the NY Times\n",
        "```\n",
        "Login: swdevfoundations@gmail.com\n",
        "PW: buildgoodsoftware\n",
        "```"
      ]
    },
    {
      "attachments": {},
      "cell_type": "markdown",
      "metadata": {
        "id": "zG-xjdfFnMs-"
      },
      "source": [
        "![image.png](data:image/png;base64,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)"
      ]
    },
    {
      "attachments": {},
      "cell_type": "markdown",
      "metadata": {
        "id": "CYLYuZqQqjNn"
      },
      "source": [
        "# OPTIONAL #1 (if you're not exhausted)\n",
        "\n",
        "If you can \"View on Timesmachine\", look for some type of **Index** on the front page that you are viewing.  If you find it, then identify the pages of a _Section_ that interests you.\n",
        "\n",
        "Display the rows from TWO pages from that section.\n",
        "\n",
        "- Create another DataFrame called `section_df` with only rows from the `print_page` that you identified above.\n",
        " - Use something like this to select the appropriate rows from `dobarticles_df`.\n",
        "   - `dobarticles_df[\"print_page\"].isin([\"22\",\"23\"])`\n",
        "- How many articles are in `section_df`?"
      ]
    },
    {
      "cell_type": "code",
      "execution_count": null,
      "metadata": {
        "id": "2aNFS4I6egUn",
        "vscode": {
          "languageId": "python"
        }
      },
      "outputs": [],
      "source": [
        "section_df = dobarticles_df[ dobarticles_df[\"print_page\"].isin([\"22\",\"23\"]) ]\n",
        "section_df.shape"
      ]
    },
    {
      "attachments": {},
      "cell_type": "markdown",
      "metadata": {
        "id": "1pB7ldH6tKXs"
      },
      "source": [
        "# OPTIONAL #2 (if you're still not exhausted)\n",
        "\n",
        "Let's search all articles containing an interesting keyword of your choice that appears in the _main headline_.  \n",
        "\n",
        "The **desired goal**:\n",
        "- Display the _main headline_ of all articles in the dataset `dobarticles_df` where `myKeyword` appears.\n",
        "- List the URLs of all these articles.\n",
        "\n",
        "Steps:\n",
        "- Hardcode a variable `myKeyword` with a string of your choice - the word that you want to search all articles for.\n",
        "- Create a list `urlList = []`\n",
        "- Create a counter `i = 0`.\n",
        "- Use a `for` loop to walk through the `headline` column of the dataframe\n",
        " - `dobarticles_df.headline`\n",
        " - Store the `main` key in a variable called `mainheadline`.  Since that's a string, you should use the `lower()` function to normalize the string data.\n",
        " - `if myKeyword in mainheadline`, then do the following:\n",
        "   - Print out `mainheadline`.\n",
        "   - Append the associated URL in the `web_url` key to `urlList`:\n",
        "    - `dobarticles_df.iloc[i].web_url`\n",
        " - Be sure that you increment the counter inside the `for` loop but outside the `if` statement.  This counter is ensuring that you are tracking the row in the DataFrame where you query the `mainheadline` for the `keyword`.\n"
      ]
    },
    {
      "cell_type": "code",
      "execution_count": null,
      "metadata": {
        "id": "AyiUjdg41VLr",
        "vscode": {
          "languageId": "python"
        }
      },
      "outputs": [],
      "source": [
        "# section_df = dobarticles_df[ dobarticles_df[\"headline\"].isin([\"22\",\"23\"]) ]\n",
        "\n",
        "#main_headline = [d.get('main') for d in dobarticles_df.headline]\n",
        "#print(len(main_headline))\n",
        "#dobarticles_df.shape\n",
        "\n",
        "myKeyword = \"\"\n",
        "urlList = []\n",
        "i = 0\n",
        "for d in dobarticles_df.headline:\n",
        "\n",
        "  i += 1\n",
        "for url in urlList:\n",
        "  print(url)"
      ]
    }
  ],
  "metadata": {
    "colab": {
      "provenance": [],
      "toc_visible": true
    },
    "kernelspec": {
      "display_name": "Python 3",
      "name": "python3"
    }
  },
  "nbformat": 4,
  "nbformat_minor": 0
}
